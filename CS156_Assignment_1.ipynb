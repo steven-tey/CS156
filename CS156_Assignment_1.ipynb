{
  "nbformat": 4,
  "nbformat_minor": 0,
  "metadata": {
    "colab": {
      "name": "CS156 Assignment 1.ipynb",
      "provenance": [],
      "authorship_tag": "ABX9TyNACEX3jeK0ljBo1DJzYEG+"
    },
    "kernelspec": {
      "name": "python3",
      "display_name": "Python 3"
    }
  },
  "cells": [
    {
      "cell_type": "markdown",
      "metadata": {
        "id": "0X2YZ89xKmrv",
        "colab_type": "text"
      },
      "source": [
        "# **CS156 Assignment 1**\n",
        "\n",
        "## **Question 1: Moore's Law**\n",
        "\n",
        "Use the scripts from [here](https://github.com/preshing/analyze-spec-benchmarks) to download a large amount of data relating to CPU specs. The scripts might take as long as an hour, depending on your connection speed. (Pay attention to the line \"If you want to skip the steps in this section, you can simply download the aggregated result files from http://preshing.com/files/specdata20120207.zip and extract them to this folder.\" This will be faster and save you some troubles while providing the same dataset.)\n",
        "\n"
      ]
    },
    {
      "cell_type": "code",
      "metadata": {
        "id": "Rla3F-lCxkrl",
        "colab_type": "code",
        "colab": {}
      },
      "source": [
        "#importing the necessary libraries\n",
        "import pandas as pd\n",
        "import datetime\n",
        "import matplotlib.pyplot as plt\n",
        "import numpy as np\n",
        "from sklearn import linear_model"
      ],
      "execution_count": 0,
      "outputs": []
    },
    {
      "cell_type": "markdown",
      "metadata": {
        "id": "wLEmJDEIK1gH",
        "colab_type": "text"
      },
      "source": [
        "### **Task 1: Extract the date and base speed for a benchmark of your choice.**"
      ]
    },
    {
      "cell_type": "code",
      "metadata": {
        "id": "-IUuc0FvxqMH",
        "colab_type": "code",
        "outputId": "bebcc645-e813-435c-a260-f3b8736be47a",
        "colab": {
          "base_uri": "https://localhost:8080/",
          "height": 253
        }
      },
      "source": [
        "#load the data into a pandas dataframe\n",
        "benchmark = pd.read_csv(\"benchmarks.txt\")\n",
        "benchmark.head()"
      ],
      "execution_count": 0,
      "outputs": [
        {
          "output_type": "stream",
          "text": [
            "/usr/local/lib/python3.6/dist-packages/IPython/core/interactiveshell.py:2718: DtypeWarning: Columns (3) have mixed types. Specify dtype option on import or set low_memory=False.\n",
            "  interactivity=interactivity, compiler=compiler, result=result)\n"
          ],
          "name": "stderr"
        },
        {
          "output_type": "execute_result",
          "data": {
            "text/html": [
              "<div>\n",
              "<style scoped>\n",
              "    .dataframe tbody tr th:only-of-type {\n",
              "        vertical-align: middle;\n",
              "    }\n",
              "\n",
              "    .dataframe tbody tr th {\n",
              "        vertical-align: top;\n",
              "    }\n",
              "\n",
              "    .dataframe thead th {\n",
              "        text-align: right;\n",
              "    }\n",
              "</style>\n",
              "<table border=\"1\" class=\"dataframe\">\n",
              "  <thead>\n",
              "    <tr style=\"text-align: right;\">\n",
              "      <th></th>\n",
              "      <th>testID</th>\n",
              "      <th>benchName</th>\n",
              "      <th>base</th>\n",
              "      <th>peak</th>\n",
              "    </tr>\n",
              "  </thead>\n",
              "  <tbody>\n",
              "    <tr>\n",
              "      <th>0</th>\n",
              "      <td>cpu95-19990104-03254</td>\n",
              "      <td>101.tomcatv</td>\n",
              "      <td>19.40</td>\n",
              "      <td>27.1</td>\n",
              "    </tr>\n",
              "    <tr>\n",
              "      <th>1</th>\n",
              "      <td>cpu95-19990104-03254</td>\n",
              "      <td>102.swim</td>\n",
              "      <td>27.20</td>\n",
              "      <td>34.8</td>\n",
              "    </tr>\n",
              "    <tr>\n",
              "      <th>2</th>\n",
              "      <td>cpu95-19990104-03254</td>\n",
              "      <td>103.su2cor</td>\n",
              "      <td>10.10</td>\n",
              "      <td>9.98</td>\n",
              "    </tr>\n",
              "    <tr>\n",
              "      <th>3</th>\n",
              "      <td>cpu95-19990104-03254</td>\n",
              "      <td>104.hydro2d</td>\n",
              "      <td>8.58</td>\n",
              "      <td>8.61</td>\n",
              "    </tr>\n",
              "    <tr>\n",
              "      <th>4</th>\n",
              "      <td>cpu95-19990104-03254</td>\n",
              "      <td>107.mgrid</td>\n",
              "      <td>8.94</td>\n",
              "      <td>9.44</td>\n",
              "    </tr>\n",
              "  </tbody>\n",
              "</table>\n",
              "</div>"
            ],
            "text/plain": [
              "                 testID    benchName   base  peak\n",
              "0  cpu95-19990104-03254  101.tomcatv  19.40  27.1\n",
              "1  cpu95-19990104-03254     102.swim  27.20  34.8\n",
              "2  cpu95-19990104-03254   103.su2cor  10.10  9.98\n",
              "3  cpu95-19990104-03254  104.hydro2d   8.58  8.61\n",
              "4  cpu95-19990104-03254    107.mgrid   8.94  9.44"
            ]
          },
          "metadata": {
            "tags": []
          },
          "execution_count": 4
        }
      ]
    },
    {
      "cell_type": "code",
      "metadata": {
        "id": "2tLjIS4a0dud",
        "colab_type": "code",
        "colab": {}
      },
      "source": [
        "'''\n",
        "Creating function to extract the date value into a datetime obj\n",
        "'''\n",
        "\n",
        "def extract_date(testID):\n",
        "    #truncating the date before the first digit and after the first '-' \n",
        "    date = testID[testID.find('-') + 1:] \n",
        "    #if the date is in the format YYMMDD and is before 2000\n",
        "    if date[0] == '9':\n",
        "        date = '19' + testID[testID.find('-') + 1:testID.find('-') + 7]\n",
        "    #if the date is in the format YYMMDD and is after 2000\n",
        "    elif date[0] == '0':\n",
        "        date = '20' + testID[testID.find('-') + 1:testID.find('-') + 7]\n",
        "    ##if the date is in the format YYYYMMDD\n",
        "    else:\n",
        "        date = testID[testID.find('-') + 1:testID.find('-') + 9]\n",
        "    #return the date as a datetime object\n",
        "    return datetime.datetime.strptime(date, \"%Y%m%d\")"
      ],
      "execution_count": 0,
      "outputs": []
    },
    {
      "cell_type": "code",
      "metadata": {
        "id": "FuCS87EI3ckU",
        "colab_type": "code",
        "colab": {}
      },
      "source": [
        "'''\n",
        "Extracting the dates and base speeds for the \"101.tomcatv\" benchmark\n",
        "'''\n",
        "\n",
        "#creating two lists to store the dates and base speeds\n",
        "dates_lst = []\n",
        "base_speed_lst = []\n",
        "\n",
        "for i in range(len(benchmark)):\n",
        "    #if the benchName of the entry is 101.tomcatv\n",
        "    if benchmark[\"benchName\"][i] == \"101.tomcatv\":\n",
        "      #if there is no '-' in the date, skip the entry\n",
        "      if benchmark[\"testID\"][i].find('-') == -1:\n",
        "        continue\n",
        "      else:\n",
        "        #extract the date into a datetime object with the code above\n",
        "        #and append it to the dates list\n",
        "        dates_lst.append(extract_date(benchmark[\"testID\"][i]))\n",
        "        #extract the corresponding base speed and append it to the\n",
        "        #base speed list\n",
        "        base_speed_lst.append(benchmark[\"base\"][i])"
      ],
      "execution_count": 0,
      "outputs": []
    },
    {
      "cell_type": "markdown",
      "metadata": {
        "id": "uUpiQSFDK5qQ",
        "colab_type": "text"
      },
      "source": [
        "### **Task 2: Plot the data in a semi-log plot.**"
      ]
    },
    {
      "cell_type": "code",
      "metadata": {
        "id": "uvG5iAJu4yxf",
        "colab_type": "code",
        "outputId": "2d0655ca-c893-4b25-a55c-de7dcaed82b7",
        "colab": {
          "base_uri": "https://localhost:8080/",
          "height": 513
        }
      },
      "source": [
        "# Plotting the data in a semi-log plot.\n",
        "\n",
        "plt.figure(figsize=(15,8))\n",
        "plt.scatter(dates_lst, np.log2(base_speed_lst))\n",
        "plt.xlabel('Year-Month')\n",
        "plt.ylabel('Base Speed')\n",
        "plt.title(\"Semi-log plot of base speed against CPU date for 101.tomcatv benchmark\")\n",
        "plt.show()"
      ],
      "execution_count": 0,
      "outputs": [
        {
          "output_type": "display_data",
          "data": {
            "image/png": "[encoded data removed]",
            "text/plain": [
              "<Figure size 1080x576 with 1 Axes>"
            ]
          },
          "metadata": {
            "tags": []
          }
        }
      ]
    },
    {
      "cell_type": "markdown",
      "metadata": {
        "id": "GOqHslEdK-UA",
        "colab_type": "text"
      },
      "source": [
        "### **Task 3: Now train a linear model to fit your plot.**"
      ]
    },
    {
      "cell_type": "code",
      "metadata": {
        "id": "4QREF_KrRjl2",
        "colab_type": "code",
        "outputId": "b078097b-edcf-46ca-b992-f14198bd32d1",
        "colab": {
          "base_uri": "https://localhost:8080/",
          "height": 34
        }
      },
      "source": [
        "# converting the dates in the dates list from datetime objects to floats\n",
        "dates_lst_float = []\n",
        "for date in dates_lst:\n",
        "    dates_lst_float.append(round(date.year + float(date.month)/12.1,5))\n",
        "\n",
        "# separating the dates in the dates list into training and test sets \n",
        "# here, we take first 80% as training data and last 20% as test data\n",
        "training_dates = dates_lst_float[:-108]\n",
        "test_dates = dates_lst_float[-108:]\n",
        "\n",
        "# further processing the training and test dates\n",
        "# instead of just the dates, we are getting the difference of each\n",
        "# date with the previous date in the dates list\n",
        "train = []\n",
        "for i in range(len(training_dates)):\n",
        "  train.append([training_dates[i] - training_dates[0]])\n",
        "  \n",
        "test = []\n",
        "for i in range(len(test_dates)):\n",
        "  test.append([test_dates[i] - test_dates[0]])\n",
        "\n",
        "# separating base speeds into training and test sets \n",
        "# here, we take first 80% as training data and last 20% as test data\n",
        "training_base = base_speed_lst[:-108]\n",
        "test_base = base_speed_lst[-108:]\n",
        "\n",
        "# fitting the linear regression model to the training data\n",
        "# here, we convert the base speeds to log in adherence of\n",
        "# Moore's law, which states that computer speeds double every 2 years\n",
        "lin_reg = linear_model.LinearRegression()\n",
        "lin_reg.fit(np.array(train).reshape(-1,1), np.log(training_base))\n",
        "\n",
        "# printing out the results\n",
        "lin_pred_results = lin_reg.predict(test)\n",
        "print(\"Coefficient: \", lin_reg.coef_, \"Intercept: \", lin_reg.intercept_)"
      ],
      "execution_count": 0,
      "outputs": [
        {
          "output_type": "stream",
          "text": [
            "Coefficient:  [0.45081004] Intercept:  3.5469174160958303\n"
          ],
          "name": "stdout"
        }
      ]
    },
    {
      "cell_type": "code",
      "metadata": {
        "id": "2ZYREF4NaHpv",
        "colab_type": "code",
        "colab": {}
      },
      "source": [
        "'''\n",
        "Getting the y-values for the Moore's Law Curve\n",
        "'''\n",
        "from scipy.interpolate import interp1d\n",
        "\n",
        "# creating arbitrary array for the x-axis\n",
        "x = np.array([0,1,2])\n",
        "\n",
        "# creating array of values for the y-axis\n",
        "# here, we should be using 9, 18, 36, since Moore's Law states that \n",
        "# the computing power will double every two years, but we are using\n",
        "# 44 because the graph goes a little beyond two years, as seen below\n",
        "y = np.array([9, 18, 44])\n",
        "\n",
        "# creating linspace of 542 values for the x-axis - same number of \n",
        "# values as there are in the dates list\n",
        "x_new = np.linspace(min(x), max(x),542)\n",
        "\n",
        "# interpolate and make the y values smoother\n",
        "f = interp1d(x, y, kind='quadratic')\n",
        "y_smooth = f(x_new)\n",
        "\n",
        "'''\n",
        "Getting the x-values for the Moore's Law Curve\n",
        "'''\n",
        "# defining the start and ends dates using pandas\n",
        "start = pd.Timestamp('1996-01-31')\n",
        "end = pd.Timestamp('2000-06-30')\n",
        "# creating a linspace of 542 dates between those start and end dates\n",
        "t = np.linspace(start.value, end.value, 542)\n",
        "t = pd.to_datetime(t)"
      ],
      "execution_count": 0,
      "outputs": []
    },
    {
      "cell_type": "code",
      "metadata": {
        "id": "89zroHWZA8Vu",
        "colab_type": "code",
        "outputId": "73bbd94e-2430-4759-d1be-621e5586d809",
        "colab": {
          "base_uri": "https://localhost:8080/",
          "height": 621
        }
      },
      "source": [
        "# once again, we have to further process the dates list - instead \n",
        "# of just using the dates, we are getting the difference of each\n",
        "# date with the previous date in the dates list\n",
        "date_lst_processed = []\n",
        "for i in range(len(dates_lst_float)):\n",
        "  date_lst_processed.append([dates_lst_float[i] - dates_lst_float[0]])\n",
        "\n",
        "# predicting the results with the linear regression we trained earlier\n",
        "lin_pred_results = (lin_reg.predict(date_lst_processed))\n",
        "\n",
        "'''\n",
        "plotting the results\n",
        "'''\n",
        "# defining the size of the graph\n",
        "plt.figure(figsize=(15,10))\n",
        "# zooming in on the target portion of the graph \n",
        "plt.axis([min(dates_lst),max(dates_lst),0,100])\n",
        "# creating a scatter plot of all the base speeds, like earlier\n",
        "plt.scatter(dates_lst, base_speed_lst)\n",
        "# creating a scatter plot of the values from the linear regression \n",
        "plt.scatter(dates_lst, np.exp(lin_pred_results), color=\"red\", label = \"Observed\")\n",
        "# plotting the Moore's Law curve\n",
        "plt.plot(np.asarray(t), y_smooth, color='green', label = \"Expected\")\n",
        "# adding the x- and y-axis labels\n",
        "plt.xlabel('Year-Month')\n",
        "plt.ylabel('Base Speed')\n",
        "# adding the plot title\n",
        "plt.title(\"Plot of base speed against CPU date for 101.tomcatv benchmark\")\n",
        "# showing the labels and the graph itself\n",
        "plt.legend()\n",
        "plt.show()"
      ],
      "execution_count": 0,
      "outputs": [
        {
          "output_type": "display_data",
          "data": {
            "image/png": "[encoded data removed]",
            "text/plain": [
              "<Figure size 1080x720 with 1 Axes>"
            ]
          },
          "metadata": {
            "tags": []
          }
        }
      ]
    },
    {
      "cell_type": "markdown",
      "metadata": {
        "id": "NJg4dVm9KfmR",
        "colab_type": "text"
      },
      "source": [
        "### **Task 4: How well is Moore's Law holding up?**\n",
        "\n",
        "As seen from the plot above, the data points from the linear regression don't adhere to Moore's Law completely - in fact, it seemed to be progressing a little quicker than what the Moore's Law predicts. Instead of doubling every two years, it doubles every 20 months or so, slightly quicker than the 24 month time period posited by Moore's Law."
      ]
    },
    {
      "cell_type": "markdown",
      "metadata": {
        "id": "IjPnpvwuMCit",
        "colab_type": "text"
      },
      "source": [
        "## **Question 2: MNIST Digits**\n",
        "\n",
        "No machine learning course would be complete without using the MNIST dataset. This dataset was a hugely influential dataset of handwriting digits (0-9).\n",
        "\n",
        "* Using scikit-learn, load the MNIST digits (see [here](http://scikit-learn.org/stable/modules/generated/sklearn.datasets.load_digits.html#sklearn.datasets.load_digits)).\n",
        "* Plot some of the examples.\n",
        "* Choose two digit classes (e.g. 7s and 3s), and train a k-nearest neighbor classifier.\n",
        "* Report your error rates on a held out part of the data.\n",
        "* (optional) Test your model on the full dataset (available from [here](http://yann.lecun.com/exdb/mnist/)).\n",
        "\n",
        "Keep a record of your figures and results, and make sure that they are easily accessible when you come to class (e.g. be able to state your error rate, or paste your code/figure into a group doc.)\n",
        "\n",
        "### **1. Using Scikit.learn, load the MNIST digits**"
      ]
    },
    {
      "cell_type": "code",
      "metadata": {
        "id": "dnZL_pJQQPQe",
        "colab_type": "code",
        "colab": {}
      },
      "source": [
        "from sklearn.datasets import load_digits\n",
        "from sklearn.neighbors import KNeighborsClassifier\n",
        "from sklearn.metrics import confusion_matrix"
      ],
      "execution_count": 0,
      "outputs": []
    },
    {
      "cell_type": "markdown",
      "metadata": {
        "id": "2T6E6nb6vPT9",
        "colab_type": "text"
      },
      "source": [
        "### **2. Plot some of the examples.**"
      ]
    },
    {
      "cell_type": "code",
      "metadata": {
        "id": "WIleu_XhGVW-",
        "colab_type": "code",
        "outputId": "05ba90ef-c8e9-4a01-acef-9afab843046e",
        "colab": {
          "base_uri": "https://localhost:8080/",
          "height": 808
        }
      },
      "source": [
        "# loading the MNIST digits with sklearn\n",
        "digits = load_digits()\n",
        "# checking the shape of the dataset\n",
        "print(digits.data.shape)\n",
        "\n",
        "# plotting some of the examples\n",
        "plt.matshow(digits.images[0]) \n",
        "plt.matshow(digits.images[1]) \n",
        "plt.matshow(digits.images[2]) \n",
        "plt.show() "
      ],
      "execution_count": 0,
      "outputs": [
        {
          "output_type": "stream",
          "text": [
            "(1797, 64)\n"
          ],
          "name": "stdout"
        },
        {
          "output_type": "display_data",
          "data": {
            "image/png": "[encoded data removed]",
            "text/plain": [
              "<Figure size 288x288 with 1 Axes>"
            ]
          },
          "metadata": {
            "tags": []
          }
        },
        {
          "output_type": "display_data",
          "data": {
            "image/png": "[encoded data removed]",
            "text/plain": [
              "<Figure size 288x288 with 1 Axes>"
            ]
          },
          "metadata": {
            "tags": []
          }
        },
        {
          "output_type": "display_data",
          "data": {
            "image/png": "[encoded data removed]",
            "text/plain": [
              "<Figure size 288x288 with 1 Axes>"
            ]
          },
          "metadata": {
            "tags": []
          }
        }
      ]
    },
    {
      "cell_type": "markdown",
      "metadata": {
        "id": "6IxNZMG8vuaq",
        "colab_type": "text"
      },
      "source": [
        "### **3. Choose two digit classes (e.g 7s and 3s) , and train a k-nearest neighbor classifier.**"
      ]
    },
    {
      "cell_type": "code",
      "metadata": {
        "id": "g3FzkFZMJxX6",
        "colab_type": "code",
        "colab": {}
      },
      "source": [
        "# extracting the data for digits 3 and 7 \n",
        "data = []\n",
        "number = []\n",
        "\n",
        "for i in range(len(digits.target)):\n",
        "    if digits.target[i] == 3 or digits.target[i] == 7:\n",
        "        data.append(digits.data[i])\n",
        "        number.append(digits.target[i])"
      ],
      "execution_count": 0,
      "outputs": []
    },
    {
      "cell_type": "code",
      "metadata": {
        "id": "kPnXuqJCMsq2",
        "colab_type": "code",
        "colab": {}
      },
      "source": [
        "'''\n",
        "Training a k-nearest neighbor classifier\n",
        "'''\n",
        "# separating data and their corresponding numbers into training and test sets \n",
        "# here, with the train_test_split function, we take a random 20% portion of the data as the test data\n",
        "training_data, test_data, training_numbers, test_numbers = train_test_split(data, number, test_size = 0.2)\n",
        "\n",
        "# defining the value of k\n",
        "k = 5\n",
        "\n",
        "# fitting the knn to the training data set \n",
        "knn = KNeighborsClassifier(k)\n",
        "knn.fit(training_data, training_numbers)\n",
        "\n",
        "# using the knn to predict the test data\n",
        "knn_pred = knn.predict(test_data)"
      ],
      "execution_count": 0,
      "outputs": []
    },
    {
      "cell_type": "markdown",
      "metadata": {
        "id": "kVNe4LG9wAqy",
        "colab_type": "text"
      },
      "source": [
        "### **4. Report your error rates on a held out part of the data.**"
      ]
    },
    {
      "cell_type": "code",
      "metadata": {
        "id": "yWWxfppouyPv",
        "colab_type": "code",
        "outputId": "e1b82e55-a149-436a-f851-31b5947994a0",
        "colab": {
          "base_uri": "https://localhost:8080/",
          "height": 105
        }
      },
      "source": [
        "# calculating error rate\n",
        "err = (1 - sum(knn_pred == test_numbers) / len(test_numbers)) * 100\n",
        "print(\"Error rate is \", \"%.2f\" % err,\"%\")\n",
        "print(\"\")\n",
        "\n",
        "# creating the confusion matrix to visualize the number of TP, TN, FP, and FN\n",
        "print(\"Confusion matrix:\\n%s\" % confusion_matrix(test_numbers, knn_pred))"
      ],
      "execution_count": 0,
      "outputs": [
        {
          "output_type": "stream",
          "text": [
            "Error rate is  0.00 %\n",
            "\n",
            "Confusion matrix:\n",
            "[[31  0]\n",
            " [ 0 42]]\n"
          ],
          "name": "stdout"
        }
      ]
    },
    {
      "cell_type": "markdown",
      "metadata": {
        "id": "2NGOhr3owKUv",
        "colab_type": "text"
      },
      "source": [
        "At a 0% error rate, I'd say that the knn is very accurate, and that the k-value of 5 is highly effective for this context. Also, the method of isolating the test data from the traning data by using the `train_test_split` function was also very appropriate given that this is a classification problem and not a time-series problem where the order of the data points matters."
      ]
    }
  ]
}